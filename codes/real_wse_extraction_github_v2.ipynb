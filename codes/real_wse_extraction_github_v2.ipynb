{
 "cells": [
  {
   "cell_type": "markdown",
   "id": "e005608b",
   "metadata": {},
   "source": [
    "# Script for web scrapping cwc real time data\n",
    "### import libraries "
   ]
  },
  {
   "cell_type": "code",
   "execution_count": null,
   "id": "801144bc",
   "metadata": {},
   "outputs": [],
   "source": [
    "import requests\n",
    "import json\n",
    "import pandas as pd\n",
    "import datetime\n",
    "from datetime import date\n",
    "# import openpyxl\n",
    "# from openpyxl.utils.dataframe import dataframe_to_rows\n",
    "import os"
   ]
  },
  {
   "cell_type": "markdown",
   "id": "e167238e",
   "metadata": {},
   "source": [
    "### set file export path, file suffix and start and end date"
   ]
  },
  {
   "cell_type": "code",
   "execution_count": null,
   "id": "c0a44fd8",
   "metadata": {},
   "outputs": [],
   "source": [
    "file_path_exp=\"F:\\\\phd_work\\\\cwc_real_time_data\\\\updated_real_time\\\\data_files\\\\2020_2024\\\\\"\n",
    "\n",
    "file_suffix='2020_2024.xlsx'\n",
    "\n",
    "sdate='2024-01-01' # yyyy-mm-dd\n",
    "edate='2024-12-31' # yyyy-mm-dd"
   ]
  },
  {
   "cell_type": "code",
   "execution_count": null,
   "id": "02178458",
   "metadata": {
    "scrolled": true
   },
   "outputs": [],
   "source": [
    "url = \"https://ffs.india-water.gov.in/iam/api/new-entry-data/specification/sorted\"\n",
    "df_code=pd.read_excel('F:\\\\phd_work\\\\cwc_real_time_data\\\\updated_real_time\\\\data_files\\\\2020_updated\\\\name-code.xlsx',index_col=0)\n",
    "df_code['code_id']=df_code.index\n",
    "df_code=df_code.reset_index(drop=True)\n",
    "datetime_format = '%Y-%m-%dT%H:%M:%S'\n",
    "\n",
    "for index,df_code_ext in df_code.iloc[:].iterrows():\n",
    "    st_code=df_code_ext['code_id']\n",
    "    name_station=df_code_ext['name']\n",
    "    print('extracting data for ::',name_station)\n",
    "    try:\n",
    "        params = {\n",
    "            \"sort-criteria\": \"%7B%22sortOrderDtos%22:%5B%7B%22sortDirection%22:%22ASC%22,%22field%22:%22id.dataTime%22%7D%5D%7D\",\n",
    "            \"specification\": f\"%7B%22where%22:%7B%22where%22:%7B%22where%22:%7B%22expression%22:%7B%22valueIsRelationField%22:false,%22fieldName%22:%22id.stationCode%22,%22operator%22:%22eq%22,%22value%22:%22{st_code}%22%7D%7D,%22and%22:%7B%22expression%22:%7B%22valueIsRelationField%22:false,%22fieldName%22:%22id.datatypeCode%22,%22operator%22:%22eq%22,%22value%22:%22HHS%22%7D%7D%7D,%22and%22:%7B%22expression%22:%7B%22valueIsRelationField%22:false,%22fieldName%22:%22dataValue%22,%22operator%22:%22null%22,%22value%22:%22false%22%7D%7D%7D,%22and%22:%7B%22expression%22:%7B%22valueIsRelationField%22:false,%22fieldName%22:%22id.dataTime%22,%22operator%22:%22btn%22,%22value%22:%22{sdate}T14:05:31.255,{edate}T14:05:31.255%22%7D%7D%7D\"\n",
    "        }\n",
    "\n",
    "        headers = {\n",
    "            \"User-Agent\": \"Mozilla/5.0 (Windows NT 10.0; Win64; x64) AppleWebKit/537.36 (KHTML, like Gecko) Chrome/91.0.4472.124 Safari/537.36\"\n",
    "        }\n",
    "\n",
    "        response = requests.get(url, params=params, headers=headers)\n",
    "        data = response.json()\n",
    "\n",
    "        df = pd.DataFrame()\n",
    "        fl=[]\n",
    "        for j in data[:]:\n",
    "            try:\n",
    "                ml=[j['stationCode'],datetime.datetime.strptime(j['id']['dataTime'],datetime_format),name_station,j['dataValue']]\n",
    "                fl.append(ml)\n",
    "            except:\n",
    "                pass\n",
    "        if fl:\n",
    "            print('recieved data for :: ',name_station)\n",
    "            fl=sorted(fl)\n",
    "            df=pd.DataFrame(fl)\n",
    "            df.columns=['code','time','name','WSE']\n",
    "            df= df.drop(columns=['Unnamed: 0'])\n",
    "            df.to_excel(file_path_new+name_station+new_file_suffix) # new file end\n",
    "            print('Data exported for station ',name_station)\n",
    "        else:\n",
    "            print('Data export failed for XXXXXXXXXXXXXXXXX',name_station)\n",
    "    except:\n",
    "        print('Data not found for the station ',name_station)"
   ]
  }
 ],
 "metadata": {
  "kernelspec": {
   "display_name": "Python 3 (ipykernel)",
   "language": "python",
   "name": "python3"
  },
  "language_info": {
   "codemirror_mode": {
    "name": "ipython",
    "version": 3
   },
   "file_extension": ".py",
   "mimetype": "text/x-python",
   "name": "python",
   "nbconvert_exporter": "python",
   "pygments_lexer": "ipython3",
   "version": "3.7.11"
  }
 },
 "nbformat": 4,
 "nbformat_minor": 5
}
